{
 "cells": [
  {
   "cell_type": "markdown",
   "metadata": {},
   "source": [
    "# 11.2 Time Series Basics\n",
    "\n",
    "在pandas中，一个基本的时间序列对象，是一个用时间戳作为索引的Series，在pandas外部的话，通常是用python 字符串或datetime对象来表示的："
   ]
  },
  {
   "cell_type": "code",
   "execution_count": 1,
   "metadata": {},
   "outputs": [],
   "source": [
    "import pandas as pd\n",
    "import numpy as np\n",
    "from datetime import datetime"
   ]
  },
  {
   "cell_type": "code",
   "execution_count": 2,
   "metadata": {},
   "outputs": [],
   "source": [
    "dates = [datetime(2011, 1, 2), datetime(2011, 1, 5),\n",
    "         datetime(2011, 1, 7), datetime(2011, 1, 8), \n",
    "         datetime(2011, 1, 10), datetime(2011, 1, 12)]"
   ]
  },
  {
   "cell_type": "code",
   "execution_count": 3,
   "metadata": {},
   "outputs": [
    {
     "data": {
      "text/plain": [
       "2011-01-02   -1.035874\n",
       "2011-01-05   -1.202860\n",
       "2011-01-07    0.485130\n",
       "2011-01-08    0.387001\n",
       "2011-01-10    0.886668\n",
       "2011-01-12   -0.308020\n",
       "dtype: float64"
      ]
     },
     "execution_count": 3,
     "metadata": {},
     "output_type": "execute_result"
    }
   ],
   "source": [
    "ts = pd.Series(np.random.randn(6), index=dates)\n",
    "ts"
   ]
  },
  {
   "cell_type": "markdown",
   "metadata": {},
   "source": [
    "上面的转化原理是，datetime对象被放进了DatetimeIndex:"
   ]
  },
  {
   "cell_type": "code",
   "execution_count": 4,
   "metadata": {},
   "outputs": [
    {
     "data": {
      "text/plain": [
       "DatetimeIndex(['2011-01-02', '2011-01-05', '2011-01-07', '2011-01-08',\n",
       "               '2011-01-10', '2011-01-12'],\n",
       "              dtype='datetime64[ns]', freq=None)"
      ]
     },
     "execution_count": 4,
     "metadata": {},
     "output_type": "execute_result"
    }
   ],
   "source": [
    "ts.index"
   ]
  },
  {
   "cell_type": "markdown",
   "metadata": {},
   "source": [
    "像其他的Series一行，数值原色会自动按时间序列索引进行对齐："
   ]
  },
  {
   "cell_type": "code",
   "execution_count": 5,
   "metadata": {},
   "outputs": [
    {
     "data": {
      "text/plain": [
       "2011-01-02   -1.035874\n",
       "2011-01-07    0.485130\n",
       "2011-01-10    0.886668\n",
       "dtype: float64"
      ]
     },
     "execution_count": 5,
     "metadata": {},
     "output_type": "execute_result"
    }
   ],
   "source": [
    "ts[::2]"
   ]
  },
  {
   "cell_type": "code",
   "execution_count": 6,
   "metadata": {},
   "outputs": [
    {
     "data": {
      "text/plain": [
       "2011-01-02   -2.071747\n",
       "2011-01-05         NaN\n",
       "2011-01-07    0.970260\n",
       "2011-01-08         NaN\n",
       "2011-01-10    1.773336\n",
       "2011-01-12         NaN\n",
       "dtype: float64"
      ]
     },
     "execution_count": 6,
     "metadata": {},
     "output_type": "execute_result"
    }
   ],
   "source": [
    "ts + ts[::2]"
   ]
  },
  {
   "cell_type": "code",
   "execution_count": 7,
   "metadata": {},
   "outputs": [
    {
     "data": {
      "text/plain": [
       "dtype('<M8[ns]')"
      ]
     },
     "execution_count": 7,
     "metadata": {},
     "output_type": "execute_result"
    }
   ],
   "source": [
    "ts.index.dtype"
   ]
  },
  {
   "cell_type": "markdown",
   "metadata": {},
   "source": [
    "DatetimeIndex的标量是pandas的Timestamp对象："
   ]
  },
  {
   "cell_type": "code",
   "execution_count": 9,
   "metadata": {},
   "outputs": [
    {
     "data": {
      "text/plain": [
       "Timestamp('2011-01-02 00:00:00')"
      ]
     },
     "execution_count": 9,
     "metadata": {},
     "output_type": "execute_result"
    }
   ],
   "source": [
    "stamp = ts.index[0]\n",
    "stamp"
   ]
  },
  {
   "cell_type": "markdown",
   "metadata": {},
   "source": [
    "Timestamp可以在任何地方用datetime对象进行替换。\n",
    "\n",
    "# 1 Indexing, Selection, Subsetting（索引，选择，取子集）\n",
    "\n",
    "当我们基于标签进行索引和选择时，时间序列就像是pandas.Series："
   ]
  },
  {
   "cell_type": "code",
   "execution_count": 10,
   "metadata": {},
   "outputs": [
    {
     "data": {
      "text/plain": [
       "2011-01-02   -1.035874\n",
       "2011-01-05   -1.202860\n",
       "2011-01-07    0.485130\n",
       "2011-01-08    0.387001\n",
       "2011-01-10    0.886668\n",
       "2011-01-12   -0.308020\n",
       "dtype: float64"
      ]
     },
     "execution_count": 10,
     "metadata": {},
     "output_type": "execute_result"
    }
   ],
   "source": [
    "ts"
   ]
  },
  {
   "cell_type": "code",
   "execution_count": 11,
   "metadata": {},
   "outputs": [],
   "source": [
    "stamp = ts.index[2]"
   ]
  },
  {
   "cell_type": "code",
   "execution_count": 12,
   "metadata": {},
   "outputs": [
    {
     "data": {
      "text/plain": [
       "0.4851297924921443"
      ]
     },
     "execution_count": 12,
     "metadata": {},
     "output_type": "execute_result"
    }
   ],
   "source": [
    "ts[stamp]"
   ]
  },
  {
   "cell_type": "markdown",
   "metadata": {},
   "source": [
    "为了方便，我们可以直接传入一个字符串用来表示日期："
   ]
  },
  {
   "cell_type": "code",
   "execution_count": 13,
   "metadata": {},
   "outputs": [
    {
     "data": {
      "text/plain": [
       "0.8866677578640286"
      ]
     },
     "execution_count": 13,
     "metadata": {},
     "output_type": "execute_result"
    }
   ],
   "source": [
    "ts['1/10/2011']"
   ]
  },
  {
   "cell_type": "code",
   "execution_count": 14,
   "metadata": {},
   "outputs": [
    {
     "data": {
      "text/plain": [
       "0.8866677578640286"
      ]
     },
     "execution_count": 14,
     "metadata": {},
     "output_type": "execute_result"
    }
   ],
   "source": [
    "ts['20110110']"
   ]
  },
  {
   "cell_type": "markdown",
   "metadata": {},
   "source": [
    "对于比较长的时间序列，我们可以直接传入一年或一年一个月，来进行数据选取："
   ]
  },
  {
   "cell_type": "code",
   "execution_count": 15,
   "metadata": {},
   "outputs": [
    {
     "data": {
      "text/plain": [
       "2000-01-01   -0.898782\n",
       "2000-01-02   -0.760490\n",
       "2000-01-03    1.727453\n",
       "2000-01-04   -1.183669\n",
       "2000-01-05    1.130868\n",
       "2000-01-06   -2.793887\n",
       "2000-01-07    0.359611\n",
       "2000-01-08    0.138000\n",
       "2000-01-09    0.230698\n",
       "2000-01-10    1.185789\n",
       "2000-01-11   -0.644326\n",
       "2000-01-12    0.912081\n",
       "2000-01-13   -1.738916\n",
       "2000-01-14    1.581153\n",
       "2000-01-15    0.546533\n",
       "2000-01-16   -1.573190\n",
       "2000-01-17   -1.690137\n",
       "2000-01-18    1.456726\n",
       "2000-01-19   -0.099057\n",
       "2000-01-20    1.294297\n",
       "2000-01-21   -0.987475\n",
       "2000-01-22    0.220771\n",
       "2000-01-23   -1.171818\n",
       "2000-01-24   -0.189120\n",
       "2000-01-25   -1.116764\n",
       "2000-01-26    0.324010\n",
       "2000-01-27   -0.680996\n",
       "2000-01-28   -0.745145\n",
       "2000-01-29    0.607720\n",
       "2000-01-30    0.195630\n",
       "                ...   \n",
       "2002-08-28   -2.171114\n",
       "2002-08-29    1.159835\n",
       "2002-08-30   -0.106134\n",
       "2002-08-31    0.222484\n",
       "2002-09-01   -1.609198\n",
       "2002-09-02   -0.903979\n",
       "2002-09-03   -1.468260\n",
       "2002-09-04    2.102030\n",
       "2002-09-05   -1.571241\n",
       "2002-09-06   -1.125820\n",
       "2002-09-07    0.290032\n",
       "2002-09-08   -0.162553\n",
       "2002-09-09    0.919683\n",
       "2002-09-10    1.287296\n",
       "2002-09-11   -0.729203\n",
       "2002-09-12   -2.266324\n",
       "2002-09-13    1.034253\n",
       "2002-09-14    1.482696\n",
       "2002-09-15   -1.181783\n",
       "2002-09-16   -1.414219\n",
       "2002-09-17   -0.851697\n",
       "2002-09-18    0.004184\n",
       "2002-09-19    0.076306\n",
       "2002-09-20    0.719056\n",
       "2002-09-21   -1.934916\n",
       "2002-09-22   -0.619158\n",
       "2002-09-23    0.133115\n",
       "2002-09-24    0.271627\n",
       "2002-09-25   -2.514562\n",
       "2002-09-26    0.487689\n",
       "Freq: D, Length: 1000, dtype: float64"
      ]
     },
     "execution_count": 15,
     "metadata": {},
     "output_type": "execute_result"
    }
   ],
   "source": [
    "longer_ts = pd.Series(np.random.randn(1000),\n",
    "                      index=pd.date_range('1/1/2000', periods=1000))\n",
    "longer_ts"
   ]
  },
  {
   "cell_type": "code",
   "execution_count": 16,
   "metadata": {},
   "outputs": [
    {
     "data": {
      "text/plain": [
       "2001-01-01    0.594825\n",
       "2001-01-02   -0.138438\n",
       "2001-01-03    0.426880\n",
       "2001-01-04    0.890645\n",
       "2001-01-05   -0.635403\n",
       "2001-01-06    0.608222\n",
       "2001-01-07    0.970126\n",
       "2001-01-08    0.764653\n",
       "2001-01-09    0.326323\n",
       "2001-01-10   -0.301089\n",
       "2001-01-11   -0.504722\n",
       "2001-01-12   -1.060614\n",
       "2001-01-13    0.725708\n",
       "2001-01-14    0.278906\n",
       "2001-01-15    0.711877\n",
       "2001-01-16    1.324654\n",
       "2001-01-17    0.356257\n",
       "2001-01-18    0.999546\n",
       "2001-01-19   -0.833555\n",
       "2001-01-20   -0.567741\n",
       "2001-01-21   -1.270620\n",
       "2001-01-22   -0.329581\n",
       "2001-01-23   -1.962586\n",
       "2001-01-24    0.222409\n",
       "2001-01-25   -1.430861\n",
       "2001-01-26   -0.846926\n",
       "2001-01-27   -0.236396\n",
       "2001-01-28    0.759687\n",
       "2001-01-29   -2.051539\n",
       "2001-01-30    0.437078\n",
       "                ...   \n",
       "2001-12-02   -0.956339\n",
       "2001-12-03   -1.462125\n",
       "2001-12-04   -0.708139\n",
       "2001-12-05   -0.790011\n",
       "2001-12-06   -0.484842\n",
       "2001-12-07    1.155748\n",
       "2001-12-08   -0.543679\n",
       "2001-12-09   -0.034427\n",
       "2001-12-10    1.136830\n",
       "2001-12-11   -0.831510\n",
       "2001-12-12    0.618170\n",
       "2001-12-13    0.039535\n",
       "2001-12-14   -1.578277\n",
       "2001-12-15   -0.682101\n",
       "2001-12-16   -0.904089\n",
       "2001-12-17   -0.680907\n",
       "2001-12-18   -0.837619\n",
       "2001-12-19   -0.324212\n",
       "2001-12-20   -1.015296\n",
       "2001-12-21    1.405943\n",
       "2001-12-22   -0.335627\n",
       "2001-12-23    0.674333\n",
       "2001-12-24   -0.368198\n",
       "2001-12-25    0.208970\n",
       "2001-12-26    0.178197\n",
       "2001-12-27    0.220066\n",
       "2001-12-28   -0.842238\n",
       "2001-12-29    0.666829\n",
       "2001-12-30   -2.241398\n",
       "2001-12-31   -0.265707\n",
       "Freq: D, Length: 365, dtype: float64"
      ]
     },
     "execution_count": 16,
     "metadata": {},
     "output_type": "execute_result"
    }
   ],
   "source": [
    "longer_ts['2001']"
   ]
  },
  {
   "cell_type": "code",
   "execution_count": 17,
   "metadata": {},
   "outputs": [
    {
     "data": {
      "text/plain": [
       "2001-05-01   -1.260731\n",
       "2001-05-02   -1.076953\n",
       "2001-05-03   -1.273644\n",
       "2001-05-04    0.186166\n",
       "2001-05-05   -2.045040\n",
       "2001-05-06    0.388047\n",
       "2001-05-07   -0.169041\n",
       "2001-05-08   -1.272060\n",
       "2001-05-09    0.664821\n",
       "2001-05-10    0.184446\n",
       "2001-05-11   -0.686513\n",
       "2001-05-12   -0.160608\n",
       "2001-05-13   -1.433813\n",
       "2001-05-14   -0.152434\n",
       "2001-05-15    0.559079\n",
       "2001-05-16   -1.202589\n",
       "2001-05-17   -0.103353\n",
       "2001-05-18    0.769911\n",
       "2001-05-19   -1.768087\n",
       "2001-05-20    0.369396\n",
       "2001-05-21    0.835071\n",
       "2001-05-22    0.854277\n",
       "2001-05-23   -1.421996\n",
       "2001-05-24    0.003957\n",
       "2001-05-25   -0.419054\n",
       "2001-05-26   -0.244487\n",
       "2001-05-27    0.161019\n",
       "2001-05-28   -0.139120\n",
       "2001-05-29   -0.763757\n",
       "2001-05-30    0.499741\n",
       "2001-05-31    1.010171\n",
       "Freq: D, dtype: float64"
      ]
     },
     "execution_count": 17,
     "metadata": {},
     "output_type": "execute_result"
    }
   ],
   "source": [
    "longer_ts['2001-05']"
   ]
  },
  {
   "cell_type": "markdown",
   "metadata": {},
   "source": [
    "利用datetime进行切片（slicing）也没问题："
   ]
  },
  {
   "cell_type": "code",
   "execution_count": 18,
   "metadata": {},
   "outputs": [
    {
     "data": {
      "text/plain": [
       "0.4851297924921443"
      ]
     },
     "execution_count": 18,
     "metadata": {},
     "output_type": "execute_result"
    }
   ],
   "source": [
    "ts[datetime(2011, 1, 7)]"
   ]
  },
  {
   "cell_type": "code",
   "execution_count": 19,
   "metadata": {},
   "outputs": [
    {
     "data": {
      "text/plain": [
       "2011-01-02   -1.035874\n",
       "2011-01-05   -1.202860\n",
       "2011-01-07    0.485130\n",
       "2011-01-08    0.387001\n",
       "2011-01-10    0.886668\n",
       "2011-01-12   -0.308020\n",
       "dtype: float64"
      ]
     },
     "execution_count": 19,
     "metadata": {},
     "output_type": "execute_result"
    }
   ],
   "source": [
    "ts"
   ]
  },
  {
   "cell_type": "code",
   "execution_count": 20,
   "metadata": {},
   "outputs": [
    {
     "data": {
      "text/plain": [
       "2011-01-07    0.485130\n",
       "2011-01-08    0.387001\n",
       "2011-01-10    0.886668\n",
       "dtype: float64"
      ]
     },
     "execution_count": 20,
     "metadata": {},
     "output_type": "execute_result"
    }
   ],
   "source": [
    "ts['1/6/2011':'1/11/2011']"
   ]
  },
  {
   "cell_type": "code",
   "execution_count": 21,
   "metadata": {
    "scrolled": true
   },
   "outputs": [
    {
     "data": {
      "text/plain": [
       "2011-01-02   -1.035874\n",
       "2011-01-05   -1.202860\n",
       "2011-01-07    0.485130\n",
       "2011-01-08    0.387001\n",
       "dtype: float64"
      ]
     },
     "execution_count": 21,
     "metadata": {},
     "output_type": "execute_result"
    }
   ],
   "source": [
    "ts.truncate(after='1/9/2011')"
   ]
  },
  {
   "cell_type": "markdown",
   "metadata": {},
   "source": [
    "所有这些都适用于DataFrame，我们对行进行索引："
   ]
  },
  {
   "cell_type": "code",
   "execution_count": 22,
   "metadata": {},
   "outputs": [],
   "source": [
    "dates = pd.date_range('1/1/2000', periods=100, freq='W-WED')"
   ]
  },
  {
   "cell_type": "code",
   "execution_count": 23,
   "metadata": {},
   "outputs": [],
   "source": [
    "long_df = pd.DataFrame(np.random.randn(100, 4),\n",
    "                       index=dates,\n",
    "                       columns=['Colorado', 'Texas',\n",
    "                                'New York', 'Ohio'])"
   ]
  },
  {
   "cell_type": "code",
   "execution_count": 24,
   "metadata": {},
   "outputs": [
    {
     "data": {
      "text/html": [
       "<div>\n",
       "<style scoped>\n",
       "    .dataframe tbody tr th:only-of-type {\n",
       "        vertical-align: middle;\n",
       "    }\n",
       "\n",
       "    .dataframe tbody tr th {\n",
       "        vertical-align: top;\n",
       "    }\n",
       "\n",
       "    .dataframe thead th {\n",
       "        text-align: right;\n",
       "    }\n",
       "</style>\n",
       "<table border=\"1\" class=\"dataframe\">\n",
       "  <thead>\n",
       "    <tr style=\"text-align: right;\">\n",
       "      <th></th>\n",
       "      <th>Colorado</th>\n",
       "      <th>Texas</th>\n",
       "      <th>New York</th>\n",
       "      <th>Ohio</th>\n",
       "    </tr>\n",
       "  </thead>\n",
       "  <tbody>\n",
       "    <tr>\n",
       "      <th>2001-05-02</th>\n",
       "      <td>0.783675</td>\n",
       "      <td>0.107951</td>\n",
       "      <td>0.166675</td>\n",
       "      <td>-0.673468</td>\n",
       "    </tr>\n",
       "    <tr>\n",
       "      <th>2001-05-09</th>\n",
       "      <td>-0.366542</td>\n",
       "      <td>0.881290</td>\n",
       "      <td>-1.863978</td>\n",
       "      <td>-0.326421</td>\n",
       "    </tr>\n",
       "    <tr>\n",
       "      <th>2001-05-16</th>\n",
       "      <td>0.339688</td>\n",
       "      <td>0.260875</td>\n",
       "      <td>-1.562306</td>\n",
       "      <td>1.027188</td>\n",
       "    </tr>\n",
       "    <tr>\n",
       "      <th>2001-05-23</th>\n",
       "      <td>0.425704</td>\n",
       "      <td>-2.158926</td>\n",
       "      <td>0.423621</td>\n",
       "      <td>-0.171503</td>\n",
       "    </tr>\n",
       "    <tr>\n",
       "      <th>2001-05-30</th>\n",
       "      <td>1.667901</td>\n",
       "      <td>-0.152497</td>\n",
       "      <td>-0.344973</td>\n",
       "      <td>-0.826279</td>\n",
       "    </tr>\n",
       "  </tbody>\n",
       "</table>\n",
       "</div>"
      ],
      "text/plain": [
       "            Colorado     Texas  New York      Ohio\n",
       "2001-05-02  0.783675  0.107951  0.166675 -0.673468\n",
       "2001-05-09 -0.366542  0.881290 -1.863978 -0.326421\n",
       "2001-05-16  0.339688  0.260875 -1.562306  1.027188\n",
       "2001-05-23  0.425704 -2.158926  0.423621 -0.171503\n",
       "2001-05-30  1.667901 -0.152497 -0.344973 -0.826279"
      ]
     },
     "execution_count": 24,
     "metadata": {},
     "output_type": "execute_result"
    }
   ],
   "source": [
    "long_df.loc['5-2001']"
   ]
  },
  {
   "cell_type": "markdown",
   "metadata": {},
   "source": [
    "# 2 Time Series with Duplicate Indices（重复索引的时间序列）\n",
    "\n",
    "在某些数据中，可能会遇到多个数据在同一时间戳下的情况："
   ]
  },
  {
   "cell_type": "code",
   "execution_count": 25,
   "metadata": {},
   "outputs": [],
   "source": [
    "dates = pd.DatetimeIndex(['1/1/2000', '1/2/2000', '1/2/2000', \n",
    "                          '1/2/2000', '1/3/2000'])"
   ]
  },
  {
   "cell_type": "code",
   "execution_count": 26,
   "metadata": {},
   "outputs": [
    {
     "data": {
      "text/plain": [
       "2000-01-01    0\n",
       "2000-01-02    1\n",
       "2000-01-02    2\n",
       "2000-01-02    3\n",
       "2000-01-03    4\n",
       "dtype: int32"
      ]
     },
     "execution_count": 26,
     "metadata": {},
     "output_type": "execute_result"
    }
   ],
   "source": [
    "dup_ts = pd.Series(np.arange(5), index=dates)\n",
    "dup_ts"
   ]
  },
  {
   "cell_type": "markdown",
   "metadata": {},
   "source": [
    "我们通过is_unique属性来查看index是否是唯一值："
   ]
  },
  {
   "cell_type": "code",
   "execution_count": 27,
   "metadata": {},
   "outputs": [
    {
     "data": {
      "text/plain": [
       "False"
      ]
     },
     "execution_count": 27,
     "metadata": {},
     "output_type": "execute_result"
    }
   ],
   "source": [
    "dup_ts.index.is_unique"
   ]
  },
  {
   "cell_type": "markdown",
   "metadata": {},
   "source": [
    "对这个时间序列取索引的的话， 要么得到标量，要么得到切片，这取决于时间戳是否是重复的："
   ]
  },
  {
   "cell_type": "code",
   "execution_count": 28,
   "metadata": {},
   "outputs": [
    {
     "data": {
      "text/plain": [
       "4"
      ]
     },
     "execution_count": 28,
     "metadata": {},
     "output_type": "execute_result"
    }
   ],
   "source": [
    "dup_ts['1/3/2000'] # not duplicated"
   ]
  },
  {
   "cell_type": "code",
   "execution_count": 29,
   "metadata": {},
   "outputs": [
    {
     "data": {
      "text/plain": [
       "2000-01-02    1\n",
       "2000-01-02    2\n",
       "2000-01-02    3\n",
       "dtype: int32"
      ]
     },
     "execution_count": 29,
     "metadata": {},
     "output_type": "execute_result"
    }
   ],
   "source": [
    "dup_ts['1/2/2000'] # duplicated"
   ]
  },
  {
   "cell_type": "markdown",
   "metadata": {},
   "source": [
    "假设我们想要聚合那些有重复时间戳的数据，一种方法是用groupby，设定level=0："
   ]
  },
  {
   "cell_type": "code",
   "execution_count": 30,
   "metadata": {},
   "outputs": [
    {
     "data": {
      "text/plain": [
       "2000-01-01    0\n",
       "2000-01-02    2\n",
       "2000-01-03    4\n",
       "dtype: int32"
      ]
     },
     "execution_count": 30,
     "metadata": {},
     "output_type": "execute_result"
    }
   ],
   "source": [
    "grouped = dup_ts.groupby(level=0)\n",
    "grouped.mean()"
   ]
  },
  {
   "cell_type": "code",
   "execution_count": 31,
   "metadata": {},
   "outputs": [
    {
     "data": {
      "text/plain": [
       "2000-01-01    1\n",
       "2000-01-02    3\n",
       "2000-01-03    1\n",
       "dtype: int64"
      ]
     },
     "execution_count": 31,
     "metadata": {},
     "output_type": "execute_result"
    }
   ],
   "source": [
    "grouped.count()"
   ]
  },
  {
   "cell_type": "code",
   "execution_count": null,
   "metadata": {},
   "outputs": [],
   "source": []
  },
  {
   "cell_type": "code",
   "execution_count": null,
   "metadata": {},
   "outputs": [],
   "source": []
  },
  {
   "cell_type": "code",
   "execution_count": null,
   "metadata": {},
   "outputs": [],
   "source": []
  },
  {
   "cell_type": "code",
   "execution_count": null,
   "metadata": {},
   "outputs": [],
   "source": []
  },
  {
   "cell_type": "code",
   "execution_count": null,
   "metadata": {},
   "outputs": [],
   "source": []
  }
 ],
 "metadata": {
  "kernelspec": {
   "display_name": "Python 3",
   "language": "python",
   "name": "python3"
  },
  "language_info": {
   "codemirror_mode": {
    "name": "ipython",
    "version": 3
   },
   "file_extension": ".py",
   "mimetype": "text/x-python",
   "name": "python",
   "nbconvert_exporter": "python",
   "pygments_lexer": "ipython3",
   "version": "3.6.4"
  }
 },
 "nbformat": 4,
 "nbformat_minor": 1
}
